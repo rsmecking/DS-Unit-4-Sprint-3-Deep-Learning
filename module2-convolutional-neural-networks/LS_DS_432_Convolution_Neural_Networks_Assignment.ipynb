{
  "nbformat": 4,
  "nbformat_minor": 0,
  "metadata": {
    "kernelspec": {
      "name": "python3",
      "display_name": "Python 3"
    },
    "colab": {
      "name": "LS_DS_432_Convolution_Neural_Networks_Assignment.ipynb",
      "provenance": [],
      "include_colab_link": true
    },
    "accelerator": "GPU"
  },
  "cells": [
    {
      "cell_type": "markdown",
      "metadata": {
        "id": "view-in-github",
        "colab_type": "text"
      },
      "source": [
        "<a href=\"https://colab.research.google.com/github/rsmecking/DS-Unit-4-Sprint-3-Deep-Learning/blob/master/module2-convolutional-neural-networks/LS_DS_432_Convolution_Neural_Networks_Assignment.ipynb\" target=\"_parent\"><img src=\"https://colab.research.google.com/assets/colab-badge.svg\" alt=\"Open In Colab\"/></a>"
      ]
    },
    {
      "cell_type": "markdown",
      "metadata": {
        "id": "nwsRzVJlVG1b",
        "colab_type": "text"
      },
      "source": [
        "<img align=\"left\" src=\"https://lever-client-logos.s3.amazonaws.com/864372b1-534c-480e-acd5-9711f850815c-1524247202159.png\" width=200>\n",
        "<br></br>\n",
        "<br></br>\n",
        "\n",
        "## *Data Science Unit 4 Sprint 3 Assignment 2*\n",
        "# Convolutional Neural Networks (CNNs)"
      ]
    },
    {
      "cell_type": "markdown",
      "metadata": {
        "colab_type": "text",
        "id": "0lfZdD_cp1t5"
      },
      "source": [
        "# Assignment\n",
        "\n",
        "- <a href=\"#p1\">Part 1:</a> Pre-Trained Model\n",
        "- <a href=\"#p2\">Part 2:</a> Custom CNN Model\n",
        "- <a href=\"#p3\">Part 3:</a> CNN with Data Augmentation\n",
        "\n",
        "\n",
        "You will apply three different CNN models to a binary image classification model using Keras. Classify images of Mountains (`./data/train/mountain/*`) and images of forests (`./data/train/forest/*`). Treat mountains as the positive class (1) and the forest images as the negative (zero). \n",
        "\n",
        "|Mountain (+)|Forest (-)|\n",
        "|---|---|\n",
        "|![](./data/train/mountain/art1131.jpg)|![](./data/validation/forest/cdmc317.jpg)|\n",
        "\n",
        "The problem is relatively difficult given that the sample is tiny: there are about 350 observations per class. This sample size might be something that you can expect with prototyping an image classification problem/solution at work. Get accustomed to evaluating several different possible models."
      ]
    },
    {
      "cell_type": "markdown",
      "metadata": {
        "colab_type": "text",
        "id": "fov2XW24VG1c"
      },
      "source": [
        "# Pre - Trained Model\n",
        "<a id=\"p1\"></a>\n",
        "\n",
        "Load a pretrained network from Keras, [ResNet50](https://tfhub.dev/google/imagenet/resnet_v1_50/classification/1) - a 50 layer deep network trained to recognize [1000 objects](https://storage.googleapis.com/download.tensorflow.org/data/ImageNetLabels.txt). Starting usage:\n",
        "\n",
        "```python\n",
        "import numpy as np\n",
        "\n",
        "from tensorflow.keras.applications.resnet50 import ResNet50\n",
        "from tensorflow.keras.preprocessing import image\n",
        "from tensorflow.keras.applications.resnet50 import preprocess_input, decode_predictions\n",
        "\n",
        "from tensorflow.keras.layers import Dense, GlobalAveragePooling2D\n",
        "from tensorflow.keras.models import Model # This is the functional API\n",
        "\n",
        "resnet = ResNet50(weights='imagenet', include_top=False)\n",
        "\n",
        "```\n",
        "\n",
        "The `include_top` parameter in `ResNet50` will remove the full connected layers from the ResNet model. The next step is to turn off the training of the ResNet layers. We want to use the learned parameters without updating them in future training passes. \n",
        "\n",
        "```python\n",
        "for layer in resnet.layers:\n",
        "    layer.trainable = False\n",
        "```\n",
        "\n",
        "Using the Keras functional API, we will need to additional additional full connected layers to our model. We we removed the top layers, we removed all preivous fully connected layers. In other words, we kept only the feature processing portions of our network. You can expert with additional layers beyond what's listed here. The `GlobalAveragePooling2D` layer functions as a really fancy flatten function by taking the average of each of the last convolutional layer outputs (which is two dimensional still). \n",
        "\n",
        "```python\n",
        "x = resnet.output\n",
        "x = GlobalAveragePooling2D()(x) # This layer is a really fancy flatten\n",
        "x = Dense(1024, activation='relu')(x)\n",
        "predictions = Dense(1, activation='sigmoid')(x)\n",
        "model = Model(resnet.input, predictions)\n",
        "```\n",
        "\n",
        "Your assignment is to apply the transfer learning above to classify images of Mountains (`./data/train/mountain/*`) and images of forests (`./data/train/forest/*`). Treat mountains as the positive class (1) and the forest images as the negative (zero). \n",
        "\n",
        "Steps to complete assignment: \n",
        "1. Load in Image Data into numpy arrays (`X`) \n",
        "2. Create a `y` for the labels\n",
        "3. Train your model with pre-trained layers from resnet\n",
        "4. Report your model's accuracy"
      ]
    },
    {
      "cell_type": "markdown",
      "metadata": {
        "id": "ZiwRMYKwVG1d",
        "colab_type": "text"
      },
      "source": [
        "## Load in Data\n",
        "\n",
        "This surprisingly more difficult than it seems, because you are working with directories of images instead of a single file. This boiler plate will help you download a zipped version of the directory of images. The directory is organized into \"train\" and \"validation\" which you can use inside an `ImageGenerator` class to stream batches of images thru your model.  \n"
      ]
    },
    {
      "cell_type": "markdown",
      "metadata": {
        "id": "ZOb2ALWYVG1d",
        "colab_type": "text"
      },
      "source": [
        "### Download & Summarize the Data\n",
        "\n",
        "This step is completed for you. Just run the cells and review the results. "
      ]
    },
    {
      "cell_type": "code",
      "metadata": {
        "id": "TNuQtnyFVG1e",
        "colab_type": "code",
        "colab": {
          "base_uri": "https://localhost:8080/",
          "height": 71
        },
        "outputId": "033dcd11-7139-487a-f6f8-b70dd56b936f"
      },
      "source": [
        "import tensorflow as tf\n",
        "import os\n",
        "\n",
        "_URL = 'https://github.com/LambdaSchool/DS-Unit-4-Sprint-3-Deep-Learning/blob/master/module2-convolutional-neural-networks/data.zip?raw=true'\n",
        "\n",
        "path_to_zip = tf.keras.utils.get_file('./data.zip', origin=_URL, extract=True)\n",
        "PATH = os.path.join(os.path.dirname(path_to_zip), 'data')"
      ],
      "execution_count": 1,
      "outputs": [
        {
          "output_type": "stream",
          "text": [
            "Downloading data from https://github.com/LambdaSchool/DS-Unit-4-Sprint-3-Deep-Learning/blob/master/module2-convolutional-neural-networks/data.zip?raw=true\n",
            "42172416/42170838 [==============================] - 0s 0us/step\n"
          ],
          "name": "stdout"
        }
      ]
    },
    {
      "cell_type": "code",
      "metadata": {
        "id": "TrpP0VZFVG1h",
        "colab_type": "code",
        "colab": {}
      },
      "source": [
        "train_dir = os.path.join(PATH, 'train')\n",
        "validation_dir = os.path.join(PATH, 'validation')"
      ],
      "execution_count": 0,
      "outputs": []
    },
    {
      "cell_type": "code",
      "metadata": {
        "id": "FO59Y7Q8VG1j",
        "colab_type": "code",
        "colab": {}
      },
      "source": [
        "train_mountain_dir = os.path.join(train_dir, 'mountain')  # directory with our training cat pictures\n",
        "train_forest_dir = os.path.join(train_dir, 'forest')  # directory with our training dog pictures\n",
        "validation_mountain_dir = os.path.join(validation_dir, 'mountain')  # directory with our validation cat pictures\n",
        "validation_forest_dir = os.path.join(validation_dir, 'forest')  # directory with our validation dog pictures"
      ],
      "execution_count": 0,
      "outputs": []
    },
    {
      "cell_type": "code",
      "metadata": {
        "id": "jBo1hvITVG1l",
        "colab_type": "code",
        "colab": {}
      },
      "source": [
        "num_mountain_tr = len(os.listdir(train_mountain_dir))\n",
        "num_forest_tr = len(os.listdir(train_forest_dir))\n",
        "\n",
        "num_mountain_val = len(os.listdir(validation_mountain_dir))\n",
        "num_forest_val = len(os.listdir(validation_forest_dir))\n",
        "\n",
        "total_train = num_mountain_tr + num_forest_tr\n",
        "total_val = num_mountain_val + num_forest_val"
      ],
      "execution_count": 0,
      "outputs": []
    },
    {
      "cell_type": "code",
      "metadata": {
        "id": "f0lT0DdeVG1o",
        "colab_type": "code",
        "colab": {
          "base_uri": "https://localhost:8080/",
          "height": 136
        },
        "outputId": "21cc4132-3014-41bf-def1-de3adb0213c0"
      },
      "source": [
        "print('total training mountain images:', num_mountain_tr)\n",
        "print('total training forest images:', num_forest_tr)\n",
        "\n",
        "print('total validation mountain images:', num_mountain_val)\n",
        "print('total validation forest images:', num_forest_val)\n",
        "print(\"--\")\n",
        "print(\"Total training images:\", total_train)\n",
        "print(\"Total validation images:\", total_val)"
      ],
      "execution_count": 5,
      "outputs": [
        {
          "output_type": "stream",
          "text": [
            "total training mountain images: 254\n",
            "total training forest images: 270\n",
            "total validation mountain images: 125\n",
            "total validation forest images: 62\n",
            "--\n",
            "Total training images: 524\n",
            "Total validation images: 187\n"
          ],
          "name": "stdout"
        }
      ]
    },
    {
      "cell_type": "markdown",
      "metadata": {
        "id": "jrwYyhykVG1q",
        "colab_type": "text"
      },
      "source": [
        "### Keras `ImageGenerator` to Process the Data\n",
        "\n",
        "This step is completed for you, but please review the code. The `ImageGenerator` class reads in batches of data from a directory and pass them to the model one batch at a time. Just like large text files, this method is advantageous, because it stifles the need to load a bunch of images into memory. \n",
        "\n",
        "Check out the documentation for this class method: [Keras `ImageGenerator` Class](https://keras.io/preprocessing/image/#imagedatagenerator-class). You'll expand it's use in the third assignment objective."
      ]
    },
    {
      "cell_type": "code",
      "metadata": {
        "id": "9jG0sZ12VG1q",
        "colab_type": "code",
        "colab": {}
      },
      "source": [
        "batch_size = 16\n",
        "epochs = 50\n",
        "IMG_HEIGHT = 224\n",
        "IMG_WIDTH = 224\n",
        "CHNLS = 3"
      ],
      "execution_count": 0,
      "outputs": []
    },
    {
      "cell_type": "code",
      "metadata": {
        "id": "rETpiWAkVG1t",
        "colab_type": "code",
        "colab": {}
      },
      "source": [
        "from tensorflow.keras.preprocessing.image import ImageDataGenerator\n",
        "\n",
        "train_image_generator = ImageDataGenerator(rescale=1./255) # Generator for our training data\n",
        "validation_image_generator = ImageDataGenerator(rescale=1./255) # Generator for our validation data"
      ],
      "execution_count": 0,
      "outputs": []
    },
    {
      "cell_type": "code",
      "metadata": {
        "id": "V0Bimk6EVG1u",
        "colab_type": "code",
        "colab": {
          "base_uri": "https://localhost:8080/",
          "height": 34
        },
        "outputId": "c92118d1-504a-479d-9fea-8ad9da415d41"
      },
      "source": [
        "train_data_gen = train_image_generator.flow_from_directory(batch_size=batch_size,\n",
        "                                                           directory=train_dir,\n",
        "                                                           shuffle=True,\n",
        "                                                           target_size=(IMG_HEIGHT, IMG_WIDTH),\n",
        "                                                           class_mode='binary')"
      ],
      "execution_count": 17,
      "outputs": [
        {
          "output_type": "stream",
          "text": [
            "Found 533 images belonging to 2 classes.\n"
          ],
          "name": "stdout"
        }
      ]
    },
    {
      "cell_type": "code",
      "metadata": {
        "id": "ocyFUUBkprdM",
        "colab_type": "code",
        "colab": {}
      },
      "source": [
        "# train_data_gen[0]"
      ],
      "execution_count": 0,
      "outputs": []
    },
    {
      "cell_type": "code",
      "metadata": {
        "id": "wRrPtmbVVG1w",
        "colab_type": "code",
        "colab": {
          "base_uri": "https://localhost:8080/",
          "height": 34
        },
        "outputId": "6c1eb980-834f-4b5c-da39-78f055c0c081"
      },
      "source": [
        "val_data_gen = validation_image_generator.flow_from_directory(batch_size=batch_size,\n",
        "                                                              directory=validation_dir,\n",
        "                                                              target_size=(IMG_HEIGHT, IMG_WIDTH),\n",
        "                                                              class_mode='binary')"
      ],
      "execution_count": 19,
      "outputs": [
        {
          "output_type": "stream",
          "text": [
            "Found 195 images belonging to 2 classes.\n"
          ],
          "name": "stdout"
        }
      ]
    },
    {
      "cell_type": "markdown",
      "metadata": {
        "id": "ANwVy_KDVG1y",
        "colab_type": "text"
      },
      "source": [
        "## Instatiate Model"
      ]
    },
    {
      "cell_type": "code",
      "metadata": {
        "id": "9eaEoO5Tdoee",
        "colab_type": "code",
        "colab": {}
      },
      "source": [
        "import numpy as np\n",
        "\n",
        "from tensorflow.keras.applications.resnet50 import ResNet50\n",
        "from tensorflow.keras.preprocessing import image\n",
        "from tensorflow.keras.applications.resnet50 import preprocess_input, decode_predictions\n",
        "\n",
        "from tensorflow.keras import datasets\n",
        "from tensorflow.keras.models import Sequential, Model # <- May Use\n",
        "from tensorflow.keras.layers import Dense, Conv2D, MaxPooling2D, Flatten, GlobalAveragePooling2D"
      ],
      "execution_count": 0,
      "outputs": []
    },
    {
      "cell_type": "code",
      "metadata": {
        "id": "L3aljHlLYf1b",
        "colab_type": "code",
        "colab": {
          "base_uri": "https://localhost:8080/",
          "height": 51
        },
        "outputId": "17274d75-eac2-4103-8176-a62474f6eb33"
      },
      "source": [
        "resnet = ResNet50(weights='imagenet', include_top=False)"
      ],
      "execution_count": 21,
      "outputs": [
        {
          "output_type": "stream",
          "text": [
            "Downloading data from https://storage.googleapis.com/tensorflow/keras-applications/resnet/resnet50_weights_tf_dim_ordering_tf_kernels_notop.h5\n",
            "94773248/94765736 [==============================] - 5s 0us/step\n"
          ],
          "name": "stdout"
        }
      ]
    },
    {
      "cell_type": "code",
      "metadata": {
        "id": "sPx8b9ZXYwKA",
        "colab_type": "code",
        "colab": {}
      },
      "source": [
        "for layer in resnet.layers:\n",
        "    layer.trainable = False"
      ],
      "execution_count": 0,
      "outputs": []
    },
    {
      "cell_type": "code",
      "metadata": {
        "id": "tkidRK6fYwDh",
        "colab_type": "code",
        "colab": {}
      },
      "source": [
        "x = resnet.output\n",
        "x = GlobalAveragePooling2D()(x) # This layer is a really fancy flatten\n",
        "x = Dense(1024, activation='relu')(x)\n",
        "predictions = Dense(1, activation='sigmoid')(x)\n",
        "model = Model(resnet.input, predictions)"
      ],
      "execution_count": 0,
      "outputs": []
    },
    {
      "cell_type": "code",
      "metadata": {
        "id": "34-UQJzgZD0C",
        "colab_type": "code",
        "colab": {
          "base_uri": "https://localhost:8080/",
          "height": 34
        },
        "outputId": "8701158d-1bcc-45f4-f72e-809e098fa75e"
      },
      "source": [
        ""
      ],
      "execution_count": 24,
      "outputs": [
        {
          "output_type": "execute_result",
          "data": {
            "text/plain": [
              "<tensorflow.python.keras.engine.training.Model at 0x7faab25f90b8>"
            ]
          },
          "metadata": {
            "tags": []
          },
          "execution_count": 24
        }
      ]
    },
    {
      "cell_type": "markdown",
      "metadata": {
        "id": "XVZr5vuAVG11",
        "colab_type": "text"
      },
      "source": [
        "## Fit Model"
      ]
    },
    {
      "cell_type": "markdown",
      "metadata": {
        "id": "8ohEpLmBVG14",
        "colab_type": "text"
      },
      "source": [
        "# Custom CNN Model\n",
        "\n",
        "In this step, write and train your own convolutional neural network using Keras. You can use any architecture that suits you as long as it has at least one convolutional and one pooling layer at the beginning of the network - you can add more if you want. "
      ]
    },
    {
      "cell_type": "code",
      "metadata": {
        "id": "Q0nrLjqWVG1y",
        "colab_type": "code",
        "colab": {
          "base_uri": "https://localhost:8080/",
          "height": 425
        },
        "outputId": "b9840058-0994-4b77-e844-a37efb7eaa90"
      },
      "source": [
        "# Setup Architecture\n",
        "\n",
        "model = Sequential()\n",
        "model.add(Conv2D(32, (3,3), activation='relu', input_shape=(224,224,3)))\n",
        "model.add(MaxPooling2D((2,2)))\n",
        "model.add(Conv2D(64, (3,3), activation='relu'))\n",
        "model.add(MaxPooling2D((2,2)))\n",
        "model.add(Conv2D(64, (3,3), activation='relu'))\n",
        "model.add(Flatten())\n",
        "model.add(Dense(64, activation='relu'))\n",
        "model.add(Dense(10, activation='softmax'))\n",
        "\n",
        "model.summary()"
      ],
      "execution_count": 12,
      "outputs": [
        {
          "output_type": "stream",
          "text": [
            "Model: \"sequential\"\n",
            "_________________________________________________________________\n",
            "Layer (type)                 Output Shape              Param #   \n",
            "=================================================================\n",
            "conv2d (Conv2D)              (None, 222, 222, 32)      896       \n",
            "_________________________________________________________________\n",
            "max_pooling2d (MaxPooling2D) (None, 111, 111, 32)      0         \n",
            "_________________________________________________________________\n",
            "conv2d_1 (Conv2D)            (None, 109, 109, 64)      18496     \n",
            "_________________________________________________________________\n",
            "max_pooling2d_1 (MaxPooling2 (None, 54, 54, 64)        0         \n",
            "_________________________________________________________________\n",
            "conv2d_2 (Conv2D)            (None, 52, 52, 64)        36928     \n",
            "_________________________________________________________________\n",
            "flatten (Flatten)            (None, 173056)            0         \n",
            "_________________________________________________________________\n",
            "dense (Dense)                (None, 64)                11075648  \n",
            "_________________________________________________________________\n",
            "dense_1 (Dense)              (None, 10)                650       \n",
            "=================================================================\n",
            "Total params: 11,132,618\n",
            "Trainable params: 11,132,618\n",
            "Non-trainable params: 0\n",
            "_________________________________________________________________\n"
          ],
          "name": "stdout"
        }
      ]
    },
    {
      "cell_type": "code",
      "metadata": {
        "id": "hB5NcvebVG16",
        "colab_type": "code",
        "colab": {}
      },
      "source": [
        "# Compile Model\n",
        "model.compile(optimizer='nadam',\n",
        "              loss='sparse_categorical_crossentropy',\n",
        "              metrics=['accuracy'],\n",
        "              )"
      ],
      "execution_count": 0,
      "outputs": []
    },
    {
      "cell_type": "code",
      "metadata": {
        "id": "uDBBEpElVG11",
        "colab_type": "code",
        "colab": {
          "base_uri": "https://localhost:8080/",
          "height": 1000
        },
        "outputId": "81610da8-afbc-4cec-b0e9-fa5e84119ec9"
      },
      "source": [
        "# Fit Model\n",
        "history = model.fit(\n",
        "    train_data_gen,\n",
        "    steps_per_epoch=total_train // batch_size,\n",
        "    epochs=epochs,\n",
        "    validation_data=val_data_gen,\n",
        "    validation_steps=total_val // batch_size\n",
        ")"
      ],
      "execution_count": 14,
      "outputs": [
        {
          "output_type": "stream",
          "text": [
            "Epoch 1/50\n",
            "32/32 [==============================] - 2s 61ms/step - loss: 1.3941 - accuracy: 0.7441 - val_loss: 0.2575 - val_accuracy: 0.8864\n",
            "Epoch 2/50\n",
            "32/32 [==============================] - 2s 57ms/step - loss: 0.3148 - accuracy: 0.9082 - val_loss: 0.3192 - val_accuracy: 0.8896\n",
            "Epoch 3/50\n",
            "32/32 [==============================] - 2s 55ms/step - loss: 0.1993 - accuracy: 0.9142 - val_loss: 0.2443 - val_accuracy: 0.9141\n",
            "Epoch 4/50\n",
            "32/32 [==============================] - 2s 56ms/step - loss: 0.1232 - accuracy: 0.9601 - val_loss: 0.1943 - val_accuracy: 0.9325\n",
            "Epoch 5/50\n",
            "32/32 [==============================] - 2s 56ms/step - loss: 0.1662 - accuracy: 0.9341 - val_loss: 0.3541 - val_accuracy: 0.8466\n",
            "Epoch 6/50\n",
            "32/32 [==============================] - 2s 59ms/step - loss: 0.2699 - accuracy: 0.9102 - val_loss: 0.2641 - val_accuracy: 0.9325\n",
            "Epoch 7/50\n",
            "32/32 [==============================] - 2s 58ms/step - loss: 0.1381 - accuracy: 0.9461 - val_loss: 0.1542 - val_accuracy: 0.9387\n",
            "Epoch 8/50\n",
            "32/32 [==============================] - 2s 59ms/step - loss: 0.1945 - accuracy: 0.9321 - val_loss: 0.2090 - val_accuracy: 0.9264\n",
            "Epoch 9/50\n",
            "32/32 [==============================] - 2s 58ms/step - loss: 0.1063 - accuracy: 0.9641 - val_loss: 0.2097 - val_accuracy: 0.9387\n",
            "Epoch 10/50\n",
            "32/32 [==============================] - 2s 58ms/step - loss: 0.0405 - accuracy: 0.9880 - val_loss: 0.4484 - val_accuracy: 0.8834\n",
            "Epoch 11/50\n",
            "32/32 [==============================] - 2s 59ms/step - loss: 0.0317 - accuracy: 0.9880 - val_loss: 0.4589 - val_accuracy: 0.8957\n",
            "Epoch 12/50\n",
            "32/32 [==============================] - 2s 57ms/step - loss: 0.0158 - accuracy: 0.9960 - val_loss: 0.2027 - val_accuracy: 0.9509\n",
            "Epoch 13/50\n",
            "32/32 [==============================] - 2s 57ms/step - loss: 0.0123 - accuracy: 0.9960 - val_loss: 0.2430 - val_accuracy: 0.9261\n",
            "Epoch 14/50\n",
            "32/32 [==============================] - 2s 57ms/step - loss: 0.0033 - accuracy: 1.0000 - val_loss: 0.2331 - val_accuracy: 0.9318\n",
            "Epoch 15/50\n",
            "32/32 [==============================] - 2s 56ms/step - loss: 0.0030 - accuracy: 1.0000 - val_loss: 0.3114 - val_accuracy: 0.9141\n",
            "Epoch 16/50\n",
            "32/32 [==============================] - 2s 57ms/step - loss: 9.9250e-04 - accuracy: 1.0000 - val_loss: 0.3478 - val_accuracy: 0.9325\n",
            "Epoch 17/50\n",
            "32/32 [==============================] - 2s 57ms/step - loss: 6.5918e-04 - accuracy: 1.0000 - val_loss: 0.4065 - val_accuracy: 0.9264\n",
            "Epoch 18/50\n",
            "32/32 [==============================] - 2s 57ms/step - loss: 3.8761e-04 - accuracy: 1.0000 - val_loss: 0.5372 - val_accuracy: 0.9202\n",
            "Epoch 19/50\n",
            "32/32 [==============================] - 2s 56ms/step - loss: 3.9036e-04 - accuracy: 1.0000 - val_loss: 0.1699 - val_accuracy: 0.9509\n",
            "Epoch 20/50\n",
            "32/32 [==============================] - 2s 57ms/step - loss: 2.0104e-04 - accuracy: 1.0000 - val_loss: 0.5154 - val_accuracy: 0.9264\n",
            "Epoch 21/50\n",
            "32/32 [==============================] - 2s 56ms/step - loss: 2.4702e-04 - accuracy: 1.0000 - val_loss: 0.4053 - val_accuracy: 0.9325\n",
            "Epoch 22/50\n",
            "32/32 [==============================] - 2s 55ms/step - loss: 1.7230e-04 - accuracy: 1.0000 - val_loss: 0.2694 - val_accuracy: 0.9264\n",
            "Epoch 23/50\n",
            "32/32 [==============================] - 2s 56ms/step - loss: 1.3967e-04 - accuracy: 1.0000 - val_loss: 0.6409 - val_accuracy: 0.9325\n",
            "Epoch 24/50\n",
            "32/32 [==============================] - 2s 56ms/step - loss: 1.3201e-04 - accuracy: 1.0000 - val_loss: 0.3807 - val_accuracy: 0.9387\n",
            "Epoch 25/50\n",
            "32/32 [==============================] - 2s 56ms/step - loss: 1.3735e-04 - accuracy: 1.0000 - val_loss: 0.4723 - val_accuracy: 0.9264\n",
            "Epoch 26/50\n",
            "32/32 [==============================] - 2s 56ms/step - loss: 7.8415e-05 - accuracy: 1.0000 - val_loss: 0.3056 - val_accuracy: 0.9375\n",
            "Epoch 27/50\n",
            "32/32 [==============================] - 2s 57ms/step - loss: 1.0696e-04 - accuracy: 1.0000 - val_loss: 0.4668 - val_accuracy: 0.9318\n",
            "Epoch 28/50\n",
            "32/32 [==============================] - 2s 57ms/step - loss: 7.5366e-05 - accuracy: 1.0000 - val_loss: 0.4040 - val_accuracy: 0.9387\n",
            "Epoch 29/50\n",
            "32/32 [==============================] - 2s 56ms/step - loss: 6.1178e-05 - accuracy: 1.0000 - val_loss: 0.2699 - val_accuracy: 0.9509\n",
            "Epoch 30/50\n",
            "32/32 [==============================] - 2s 57ms/step - loss: 5.4408e-05 - accuracy: 1.0000 - val_loss: 0.5397 - val_accuracy: 0.9325\n",
            "Epoch 31/50\n",
            "32/32 [==============================] - 2s 55ms/step - loss: 4.7705e-05 - accuracy: 1.0000 - val_loss: 0.4881 - val_accuracy: 0.9325\n",
            "Epoch 32/50\n",
            "32/32 [==============================] - 2s 57ms/step - loss: 4.7260e-05 - accuracy: 1.0000 - val_loss: 0.2451 - val_accuracy: 0.9571\n",
            "Epoch 33/50\n",
            "32/32 [==============================] - 2s 57ms/step - loss: 3.3999e-05 - accuracy: 1.0000 - val_loss: 0.4440 - val_accuracy: 0.9264\n",
            "Epoch 34/50\n",
            "32/32 [==============================] - 2s 56ms/step - loss: 2.9345e-05 - accuracy: 1.0000 - val_loss: 0.4703 - val_accuracy: 0.9387\n",
            "Epoch 35/50\n",
            "32/32 [==============================] - 2s 57ms/step - loss: 2.7824e-05 - accuracy: 1.0000 - val_loss: 0.3583 - val_accuracy: 0.9264\n",
            "Epoch 36/50\n",
            "32/32 [==============================] - 2s 55ms/step - loss: 2.1714e-05 - accuracy: 1.0000 - val_loss: 0.4724 - val_accuracy: 0.9264\n",
            "Epoch 37/50\n",
            "32/32 [==============================] - 2s 56ms/step - loss: 2.1595e-05 - accuracy: 1.0000 - val_loss: 0.4469 - val_accuracy: 0.9325\n",
            "Epoch 38/50\n",
            "32/32 [==============================] - 2s 54ms/step - loss: 1.8196e-05 - accuracy: 1.0000 - val_loss: 0.4453 - val_accuracy: 0.9325\n",
            "Epoch 39/50\n",
            "32/32 [==============================] - 2s 54ms/step - loss: 1.8615e-05 - accuracy: 1.0000 - val_loss: 0.5506 - val_accuracy: 0.9318\n",
            "Epoch 40/50\n",
            "32/32 [==============================] - 2s 54ms/step - loss: 1.3571e-05 - accuracy: 1.0000 - val_loss: 0.5310 - val_accuracy: 0.9261\n",
            "Epoch 41/50\n",
            "32/32 [==============================] - 2s 54ms/step - loss: 1.3358e-05 - accuracy: 1.0000 - val_loss: 0.5323 - val_accuracy: 0.9325\n",
            "Epoch 42/50\n",
            "32/32 [==============================] - 2s 54ms/step - loss: 1.3173e-05 - accuracy: 1.0000 - val_loss: 0.3453 - val_accuracy: 0.9448\n",
            "Epoch 43/50\n",
            "32/32 [==============================] - 2s 55ms/step - loss: 1.0505e-05 - accuracy: 1.0000 - val_loss: 0.5561 - val_accuracy: 0.9264\n",
            "Epoch 44/50\n",
            "32/32 [==============================] - 2s 54ms/step - loss: 1.0004e-05 - accuracy: 1.0000 - val_loss: 0.5684 - val_accuracy: 0.9448\n",
            "Epoch 45/50\n",
            "32/32 [==============================] - 2s 57ms/step - loss: 8.5049e-06 - accuracy: 1.0000 - val_loss: 0.4183 - val_accuracy: 0.9325\n",
            "Epoch 46/50\n",
            "32/32 [==============================] - 2s 55ms/step - loss: 7.3377e-06 - accuracy: 1.0000 - val_loss: 0.4501 - val_accuracy: 0.9509\n",
            "Epoch 47/50\n",
            "32/32 [==============================] - 2s 57ms/step - loss: 7.3117e-06 - accuracy: 1.0000 - val_loss: 0.4812 - val_accuracy: 0.9387\n",
            "Epoch 48/50\n",
            "32/32 [==============================] - 2s 55ms/step - loss: 6.2608e-06 - accuracy: 1.0000 - val_loss: 0.2471 - val_accuracy: 0.9632\n",
            "Epoch 49/50\n",
            "32/32 [==============================] - 2s 58ms/step - loss: 6.1198e-06 - accuracy: 1.0000 - val_loss: 1.0241 - val_accuracy: 0.9202\n",
            "Epoch 50/50\n",
            "32/32 [==============================] - 2s 57ms/step - loss: 5.1242e-06 - accuracy: 1.0000 - val_loss: 0.2485 - val_accuracy: 0.9571\n"
          ],
          "name": "stdout"
        }
      ]
    },
    {
      "cell_type": "markdown",
      "metadata": {
        "id": "AJqO0TbRVG19",
        "colab_type": "text"
      },
      "source": [
        "# Custom CNN Model with Image Manipulations\n",
        "\n",
        "To simulate an increase in a sample of image, you can apply image manipulation techniques: cropping, rotation, stretching, etc. Luckily Keras has some handy functions for us to apply these techniques to our mountain and forest example. Simply, you should be able to modify our image generator for the problem. Check out these resources to help you get started: \n",
        "\n",
        "1. [Keras `ImageGenerator` Class](https://keras.io/preprocessing/image/#imagedatagenerator-class)\n",
        "2. [Building a powerful image classifier with very little data](https://blog.keras.io/building-powerful-image-classification-models-using-very-little-data.html)\n",
        " "
      ]
    },
    {
      "cell_type": "code",
      "metadata": {
        "id": "AB4vxsmQVG1-",
        "colab_type": "code",
        "colab": {}
      },
      "source": [
        "# State Code for Image Manipulation Here"
      ],
      "execution_count": 0,
      "outputs": []
    },
    {
      "cell_type": "markdown",
      "metadata": {
        "colab_type": "text",
        "id": "uT3UV3gap9H6"
      },
      "source": [
        "# Resources and Stretch Goals\n",
        "\n",
        "Stretch goals\n",
        "- Enhance your code to use classes/functions and accept terms to search and classes to look for in recognizing the downloaded images (e.g. download images of parties, recognize all that contain balloons)\n",
        "- Check out [other available pretrained networks](https://tfhub.dev), try some and compare\n",
        "- Image recognition/classification is somewhat solved, but *relationships* between entities and describing an image is not - check out some of the extended resources (e.g. [Visual Genome](https://visualgenome.org/)) on the topic\n",
        "- Transfer learning - using images you source yourself, [retrain a classifier](https://www.tensorflow.org/hub/tutorials/image_retraining) with a new category\n",
        "- (Not CNN related) Use [piexif](https://pypi.org/project/piexif/) to check out the metadata of images passed in to your system - see if they're from a national park! (Note - many images lack GPS metadata, so this won't work in most cases, but still cool)\n",
        "\n",
        "Resources\n",
        "- [Deep Residual Learning for Image Recognition](https://arxiv.org/abs/1512.03385) - influential paper (introduced ResNet)\n",
        "- [YOLO: Real-Time Object Detection](https://pjreddie.com/darknet/yolo/) - an influential convolution based object detection system, focused on inference speed (for applications to e.g. self driving vehicles)\n",
        "- [R-CNN, Fast R-CNN, Faster R-CNN, YOLO](https://towardsdatascience.com/r-cnn-fast-r-cnn-faster-r-cnn-yolo-object-detection-algorithms-36d53571365e) - comparison of object detection systems\n",
        "- [Common Objects in Context](http://cocodataset.org/) - a large-scale object detection, segmentation, and captioning dataset\n",
        "- [Visual Genome](https://visualgenome.org/) - a dataset, a knowledge base, an ongoing effort to connect structured image concepts to language"
      ]
    }
  ]
}